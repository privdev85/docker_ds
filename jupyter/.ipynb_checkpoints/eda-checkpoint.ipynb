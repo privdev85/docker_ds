{
 "cells": [
  {
   "cell_type": "markdown",
   "metadata": {},
   "source": [
    "### Import libraries and dataset"
   ]
  },
  {
   "cell_type": "code",
   "execution_count": null,
   "metadata": {},
   "outputs": [],
   "source": [
    "import numpy as np\n",
    "import pandas as pd\n",
    "\n",
    "from sklearn.model_selection import train_test_split\n",
    "from sklearn.preprocessing import LabelEncoder\n",
    "from hyperopt import hp, fmin, tpe, Trials, STATUS_OK\n",
    "\n",
    "import math\n",
    "import lightgbm as lgb"
   ]
  },
  {
   "cell_type": "code",
   "execution_count": null,
   "metadata": {},
   "outputs": [],
   "source": [
    "# Import raw data \n",
    "df = pd.read_csv('../csv/true_car_listings.csv')"
   ]
  },
  {
   "cell_type": "markdown",
   "metadata": {},
   "source": [
    "### Data and Variable preparations "
   ]
  },
  {
   "cell_type": "code",
   "execution_count": null,
   "metadata": {},
   "outputs": [],
   "source": [
    "### Exclusions\n",
    "\n",
    "# Extremely high prices\n",
    "df.drop(df[df['Price'] > 100000].index, inplace = True)"
   ]
  },
  {
   "cell_type": "code",
   "execution_count": null,
   "metadata": {},
   "outputs": [],
   "source": [
    "continous_vars = ['Year', 'Mileage']\n",
    "categorical_vars = ['Make', 'Model']\n",
    "target = 'Price'"
   ]
  },
  {
   "cell_type": "code",
   "execution_count": null,
   "metadata": {},
   "outputs": [],
   "source": [
    "for var in categorical_vars:\n",
    "    le = LabelEncoder()\n",
    "    df[var] = le.fit_transform(df[var])"
   ]
  },
  {
   "cell_type": "markdown",
   "metadata": {},
   "source": [
    "### Try hyperopt "
   ]
  },
  {
   "cell_type": "code",
   "execution_count": null,
   "metadata": {},
   "outputs": [],
   "source": [
    "data = df.copy()"
   ]
  },
  {
   "cell_type": "code",
   "execution_count": null,
   "metadata": {},
   "outputs": [],
   "source": [
    "dtrain = lgb.Dataset(data[continous_vars + categorical_vars],\n",
    "                     data[target],             \n",
    "                     categorical_feature = categorical_vars,\n",
    "                     free_raw_data=False)"
   ]
  },
  {
   "cell_type": "code",
   "execution_count": null,
   "metadata": {},
   "outputs": [],
   "source": [
    "def train(params):\n",
    "    \n",
    "        params['application'] = 'regression'\n",
    "        params['num_iterations'] = 1000\n",
    "        params['early_stopping_round'] = 10\n",
    "        params['feature_fraction'] = 1\n",
    "        \n",
    "        cv_results = lgb.cv(params, dtrain, nfold=5, \n",
    "                              seed = 72, categorical_feature=categorical_vars, stratified=False,\n",
    "                              verbose_eval =None, metrics = 'mae')\n",
    "\n",
    "        return np.min(cv_results['l1-mean'])"
   ]
  },
  {
   "cell_type": "code",
   "execution_count": null,
   "metadata": {},
   "outputs": [],
   "source": [
    "space = {\n",
    "    'learning_rate': \n",
    "hp.uniform('learning_rate', 0.01, 1),\n",
    "         'max_depth': \n",
    "hp.choice('max_depth', range(1, 30, 1)),\n",
    "         'num_leaves': \n",
    "hp.choice('num_leaves', range(2, 100, 1)),\n",
    "         'bagging_fraction': \n",
    "hp.uniform('bagging_fraction', 0.5, 1),         \n",
    "         'min_split_gain': \n",
    "hp.uniform('min_split_gain', 0.001, 0.1),        \n",
    "        'min_child_weight': \n",
    "hp.choice('min_child_weight', range(10, 25, 1))            }"
   ]
  },
  {
   "cell_type": "code",
   "execution_count": null,
   "metadata": {},
   "outputs": [],
   "source": [
    "trials = Trials()\n",
    "best = fmin(fn = train,\n",
    "           space = space,\n",
    "            trials = trials,\n",
    "           algo = tpe.suggest,\n",
    "           max_evals = 15)"
   ]
  },
  {
   "cell_type": "code",
   "execution_count": null,
   "metadata": {},
   "outputs": [],
   "source": [
    "best"
   ]
  },
  {
   "cell_type": "code",
   "execution_count": null,
   "metadata": {},
   "outputs": [],
   "source": [
    "best2"
   ]
  },
  {
   "cell_type": "code",
   "execution_count": null,
   "metadata": {},
   "outputs": [],
   "source": [
    "trials.results"
   ]
  },
  {
   "cell_type": "code",
   "execution_count": null,
   "metadata": {},
   "outputs": [],
   "source": []
  }
 ],
 "metadata": {
  "kernelspec": {
   "display_name": "Python 3 (ipykernel)",
   "language": "python",
   "name": "python3"
  },
  "language_info": {
   "codemirror_mode": {
    "name": "ipython",
    "version": 3
   },
   "file_extension": ".py",
   "mimetype": "text/x-python",
   "name": "python",
   "nbconvert_exporter": "python",
   "pygments_lexer": "ipython3",
   "version": "3.7.10"
  }
 },
 "nbformat": 4,
 "nbformat_minor": 4
}
