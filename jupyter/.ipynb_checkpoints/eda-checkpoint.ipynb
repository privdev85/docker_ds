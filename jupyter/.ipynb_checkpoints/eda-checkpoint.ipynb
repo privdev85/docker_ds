{
 "cells": [
  {
   "cell_type": "markdown",
   "metadata": {},
   "source": [
    "### Import libraries and dataset"
   ]
  },
  {
   "cell_type": "code",
   "execution_count": 1,
   "metadata": {},
   "outputs": [],
   "source": [
    "import numpy as np\n",
    "import pandas as pd\n",
    "\n",
    "from sklearn.model_selection import train_test_split\n",
    "from sklearn.preprocessing import LabelEncoder\n",
    "from hyperopt import hp, fmin, tpe, Trials, STATUS_OK\n",
    "\n",
    "import math\n",
    "import lightgbm as lgb"
   ]
  },
  {
   "cell_type": "code",
   "execution_count": 2,
   "metadata": {},
   "outputs": [],
   "source": [
    "# Import raw data \n",
    "df = pd.read_csv('../csv/true_car_listings.csv')"
   ]
  },
  {
   "cell_type": "markdown",
   "metadata": {},
   "source": [
    "### Data and Variable preparations "
   ]
  },
  {
   "cell_type": "code",
   "execution_count": 3,
   "metadata": {},
   "outputs": [],
   "source": [
    "### Exclusions\n",
    "\n",
    "# Extremely high prices\n",
    "df.drop(df[df['Price'] > 100000].index, inplace = True)"
   ]
  },
  {
   "cell_type": "code",
   "execution_count": 4,
   "metadata": {},
   "outputs": [],
   "source": [
    "continous_vars = ['Year', 'Mileage']\n",
    "categorical_vars = ['Make', 'Model']\n",
    "target = 'Price'"
   ]
  },
  {
   "cell_type": "code",
   "execution_count": 5,
   "metadata": {},
   "outputs": [],
   "source": [
    "for var in categorical_vars:\n",
    "    le = LabelEncoder()\n",
    "    df[var] = le.fit_transform(df[var])"
   ]
  },
  {
   "cell_type": "markdown",
   "metadata": {},
   "source": [
    "### Try hyperopt "
   ]
  },
  {
   "cell_type": "code",
   "execution_count": 8,
   "metadata": {},
   "outputs": [],
   "source": [
    "data = df.copy()"
   ]
  },
  {
   "cell_type": "code",
   "execution_count": 9,
   "metadata": {},
   "outputs": [],
   "source": [
    "dtrain = lgb.Dataset(data[continous_vars + categorical_vars],\n",
    "                     data[target],             \n",
    "                     categorical_feature = categorical_vars,\n",
    "                     free_raw_data=False)"
   ]
  },
  {
   "cell_type": "code",
   "execution_count": 10,
   "metadata": {},
   "outputs": [],
   "source": [
    "def train(params):\n",
    "    \n",
    "        params['application'] = 'regression'\n",
    "        params['num_iterations'] = 1000\n",
    "        params['early_stopping_round'] = 10\n",
    "        params['feature_fraction'] = 1\n",
    "        \n",
    "        cv_results = lgb.cv(params, dtrain, nfold=5, \n",
    "                              seed = 72, categorical_feature=categorical_vars, stratified=False,\n",
    "                              verbose_eval =None, metrics = 'mae')\n",
    "\n",
    "        return np.min(cv_results['l1-mean'])"
   ]
  },
  {
   "cell_type": "code",
   "execution_count": 11,
   "metadata": {},
   "outputs": [],
   "source": [
    "space = {\n",
    "    'learning_rate': \n",
    "hp.uniform('learning_rate', 0.01, 1),\n",
    "         'max_depth': \n",
    "hp.choice('max_depth', range(1, 30, 1)),\n",
    "         'num_leaves': \n",
    "hp.choice('num_leaves', range(2, 100, 1)),\n",
    "         'bagging_fraction': \n",
    "hp.uniform('bagging_fraction', 0.5, 1),         \n",
    "         'min_split_gain': \n",
    "hp.uniform('min_split_gain', 0.001, 0.1),        \n",
    "        'min_child_weight': \n",
    "hp.choice('min_child_weight', range(10, 25, 1))            }"
   ]
  },
  {
   "cell_type": "code",
   "execution_count": 12,
   "metadata": {},
   "outputs": [
    {
     "name": "stdout",
     "output_type": "stream",
     "text": [
      "\r",
      "  0%|          | 0/50 [00:00<?, ?trial/s, best loss=?]"
     ]
    },
    {
     "name": "stderr",
     "output_type": "stream",
     "text": [
      "/usr/local/lib/python3.8/site-packages/lightgbm/engine.py:503: UserWarning: Found `num_iterations` in params. Will use it instead of argument\n",
      "  warnings.warn(\"Found `{}` in params. Will use it instead of argument\".format(alias))\n",
      "\n",
      "/usr/local/lib/python3.8/site-packages/lightgbm/engine.py:508: UserWarning: Found `early_stopping_round` in params. Will use it instead of argument\n",
      "  warnings.warn(\"Found `{}` in params. Will use it instead of argument\".format(alias))\n",
      "\n"
     ]
    },
    {
     "name": "stdout",
     "output_type": "stream",
     "text": [
      "100%|██████████| 50/50 [1:10:45<00:00, 84.91s/trial, best loss: 2182.192477633955] \n"
     ]
    }
   ],
   "source": [
    "trials = Trials()\n",
    "best = fmin(fn = train,\n",
    "           space = space,\n",
    "            trials = trials,\n",
    "           algo = tpe.suggest,\n",
    "           max_evals = 15)"
   ]
  },
  {
   "cell_type": "code",
   "execution_count": 14,
   "metadata": {},
   "outputs": [
    {
     "data": {
      "text/plain": [
       "{'bagging_fraction': 0.6296862669434514,\n",
       " 'learning_rate': 0.04413213389097873,\n",
       " 'max_depth': 28,\n",
       " 'min_child_weight': 13,\n",
       " 'min_split_gain': 0.06531986293934416,\n",
       " 'num_leaves': 88}"
      ]
     },
     "execution_count": 14,
     "metadata": {},
     "output_type": "execute_result"
    }
   ],
   "source": [
    "best"
   ]
  },
  {
   "cell_type": "code",
   "execution_count": 15,
   "metadata": {},
   "outputs": [
    {
     "data": {
      "text/plain": [
       "[{'loss': 2188.4124530237705, 'status': 'ok'},\n",
       " {'loss': 2283.851485809139, 'status': 'ok'},\n",
       " {'loss': 2214.881336653373, 'status': 'ok'},\n",
       " {'loss': 2245.0877111268874, 'status': 'ok'},\n",
       " {'loss': 2262.671620626672, 'status': 'ok'},\n",
       " {'loss': 2188.083757485994, 'status': 'ok'},\n",
       " {'loss': 2256.948662659091, 'status': 'ok'},\n",
       " {'loss': 2267.664299423187, 'status': 'ok'},\n",
       " {'loss': 2863.9417728081107, 'status': 'ok'},\n",
       " {'loss': 2233.5219805529614, 'status': 'ok'},\n",
       " {'loss': 2239.8329988657533, 'status': 'ok'},\n",
       " {'loss': 2190.884225384373, 'status': 'ok'},\n",
       " {'loss': 2211.6459945926676, 'status': 'ok'},\n",
       " {'loss': 2199.724613356966, 'status': 'ok'},\n",
       " {'loss': 2216.9031807659617, 'status': 'ok'},\n",
       " {'loss': 2207.007942795374, 'status': 'ok'},\n",
       " {'loss': 2217.2109663124907, 'status': 'ok'},\n",
       " {'loss': 2225.0155799823183, 'status': 'ok'},\n",
       " {'loss': 2464.701287128665, 'status': 'ok'},\n",
       " {'loss': 2229.9460163233693, 'status': 'ok'},\n",
       " {'loss': 2200.2526670947473, 'status': 'ok'},\n",
       " {'loss': 2215.6823538770354, 'status': 'ok'},\n",
       " {'loss': 2196.521449460769, 'status': 'ok'},\n",
       " {'loss': 2204.2548426981034, 'status': 'ok'},\n",
       " {'loss': 2203.4840496857173, 'status': 'ok'},\n",
       " {'loss': 2195.6073047688797, 'status': 'ok'},\n",
       " {'loss': 3061.4705681144883, 'status': 'ok'},\n",
       " {'loss': 2207.4645911532184, 'status': 'ok'},\n",
       " {'loss': 2268.8535599840334, 'status': 'ok'},\n",
       " {'loss': 2223.648868180198, 'status': 'ok'},\n",
       " {'loss': 2203.6377113876283, 'status': 'ok'},\n",
       " {'loss': 2341.3795249161585, 'status': 'ok'},\n",
       " {'loss': 2202.708364636893, 'status': 'ok'},\n",
       " {'loss': 2184.7669502185636, 'status': 'ok'},\n",
       " {'loss': 2185.143286133324, 'status': 'ok'},\n",
       " {'loss': 2183.089578723445, 'status': 'ok'},\n",
       " {'loss': 2254.419874122469, 'status': 'ok'},\n",
       " {'loss': 2241.9885529714584, 'status': 'ok'},\n",
       " {'loss': 2207.1720912875235, 'status': 'ok'},\n",
       " {'loss': 2182.192477633955, 'status': 'ok'},\n",
       " {'loss': 2193.8957507068108, 'status': 'ok'},\n",
       " {'loss': 2227.531725510243, 'status': 'ok'},\n",
       " {'loss': 2191.5414333252957, 'status': 'ok'},\n",
       " {'loss': 2224.959254289879, 'status': 'ok'},\n",
       " {'loss': 2188.3612137587575, 'status': 'ok'},\n",
       " {'loss': 2210.676207131286, 'status': 'ok'},\n",
       " {'loss': 2183.658666365917, 'status': 'ok'},\n",
       " {'loss': 2253.794831721784, 'status': 'ok'},\n",
       " {'loss': 2202.7980193183366, 'status': 'ok'},\n",
       " {'loss': 2282.7112999424976, 'status': 'ok'}]"
      ]
     },
     "execution_count": 15,
     "metadata": {},
     "output_type": "execute_result"
    }
   ],
   "source": [
    "trials.results"
   ]
  },
  {
   "cell_type": "code",
   "execution_count": null,
   "metadata": {},
   "outputs": [],
   "source": []
  }
 ],
 "metadata": {
  "kernelspec": {
   "display_name": "Python 3",
   "language": "python",
   "name": "python3"
  },
  "language_info": {
   "codemirror_mode": {
    "name": "ipython",
    "version": 3
   },
   "file_extension": ".py",
   "mimetype": "text/x-python",
   "name": "python",
   "nbconvert_exporter": "python",
   "pygments_lexer": "ipython3",
   "version": "3.8.2"
  }
 },
 "nbformat": 4,
 "nbformat_minor": 4
}
