{
 "cells": [
  {
   "cell_type": "markdown",
   "metadata": {},
   "source": [
    "### Import libraries and dataset"
   ]
  },
  {
   "cell_type": "code",
   "execution_count": 23,
   "metadata": {},
   "outputs": [],
   "source": [
    "import numpy as np\n",
    "import pandas as pd\n",
    "\n",
    "from sklearn.model_selection import train_test_split\n",
    "from sklearn.preprocessing import LabelEncoder\n",
    "\n",
    "from matplotlib import pyplot as plt\n",
    "import math\n",
    "import lightgbm as lgb"
   ]
  },
  {
   "cell_type": "code",
   "execution_count": 3,
   "metadata": {},
   "outputs": [],
   "source": [
    "# Import raw data \n",
    "df = pd.read_csv('../csv/true_car_listings.csv')"
   ]
  },
  {
   "cell_type": "markdown",
   "metadata": {},
   "source": [
    "### Data and Variable preparations "
   ]
  },
  {
   "cell_type": "code",
   "execution_count": 4,
   "metadata": {},
   "outputs": [],
   "source": [
    "### Exclusions\n",
    "\n",
    "# Extremely high prices\n",
    "df.drop(df[df['Price'] > 100000].index, inplace = True)"
   ]
  },
  {
   "cell_type": "code",
   "execution_count": 9,
   "metadata": {},
   "outputs": [],
   "source": [
    "continous_vars = ['Year', 'Mileage']\n",
    "categorical_vars = ['Make', 'Model']\n",
    "target = 'Price'"
   ]
  },
  {
   "cell_type": "code",
   "execution_count": 24,
   "metadata": {},
   "outputs": [],
   "source": [
    "for var in categorical_vars:\n",
    "    le = LabelEncoder()\n",
    "    df[var] = le.fit_transform(df[var])"
   ]
  },
  {
   "cell_type": "markdown",
   "metadata": {},
   "source": [
    "### Try hyperopt "
   ]
  },
  {
   "cell_type": "code",
   "execution_count": 155,
   "metadata": {},
   "outputs": [],
   "source": [
    "dtrain = lgb.Dataset(data[continous_vars + categorical_vars],\n",
    "                     data[target],             \n",
    "                     categorical_feature = categorical_vars,\n",
    "                     free_raw_data=False)"
   ]
  },
  {
   "cell_type": "code",
   "execution_count": 177,
   "metadata": {},
   "outputs": [],
   "source": [
    "from hyperopt import hp, fmin, tpe, Trials, STATUS_OK\n",
    "import matplotlib.pyplot as plt"
   ]
  },
  {
   "cell_type": "code",
   "execution_count": 197,
   "metadata": {},
   "outputs": [],
   "source": [
    "def train(params):\n",
    "    \n",
    "        params['application'] = 'regression'\n",
    "        params['num_iterations'] = 1000\n",
    "        params['early_stopping_round'] = 10\n",
    "        params['feature_fraction'] = 1\n",
    "        \n",
    "        cv_results = lgb.cv(params, dtrain, nfold=5, \n",
    "                              seed = 72, categorical_feature=categorical_vars, stratified=False,\n",
    "                              verbose_eval =None, metrics = 'mae')\n",
    "\n",
    "        return np.min(cv_results['l1-mean'])"
   ]
  },
  {
   "cell_type": "code",
   "execution_count": 198,
   "metadata": {},
   "outputs": [],
   "source": [
    "space = {\n",
    "    'learning_rate': \n",
    "hp.uniform('learning_rate', 0.01, 1),\n",
    "         'max_depth': \n",
    "hp.choice('max_depth', range(1, 30, 1)),\n",
    "         'num_leaves': \n",
    "hp.choice('num_leaves', range(2, 100, 1)),\n",
    "         'bagging_fraction': \n",
    "hp.uniform('bagging_fraction', 0.5, 1),         \n",
    "         'min_split_gain': \n",
    "hp.uniform('min_split_gain', 0.001, 0.1),        \n",
    "        'min_child_weight': \n",
    "hp.choice('min_child_weight', range(10, 25, 1))            }"
   ]
  },
  {
   "cell_type": "code",
   "execution_count": 199,
   "metadata": {},
   "outputs": [
    {
     "name": "stdout",
     "output_type": "stream",
     "text": [
      "100%|██████████| 50/50 [27:11<00:00, 32.64s/trial, best loss: 2183.069901822856] \n"
     ]
    }
   ],
   "source": [
    "trials = Trials()\n",
    "best = fmin(fn = train,\n",
    "           space = space,\n",
    "            trials = trials,\n",
    "           algo = tpe.suggest,\n",
    "           max_evals = 50)"
   ]
  },
  {
   "cell_type": "code",
   "execution_count": 200,
   "metadata": {},
   "outputs": [
    {
     "data": {
      "text/plain": [
       "{'bagging_fraction': 0.6789978290704509,\n",
       " 'learning_rate': 0.07505885043928769,\n",
       " 'max_depth': 13,\n",
       " 'min_child_weight': 5,\n",
       " 'min_split_gain': 0.04060760311169449,\n",
       " 'num_leaves': 93}"
      ]
     },
     "execution_count": 200,
     "metadata": {},
     "output_type": "execute_result"
    }
   ],
   "source": [
    "best"
   ]
  },
  {
   "cell_type": "code",
   "execution_count": 202,
   "metadata": {},
   "outputs": [
    {
     "data": {
      "text/plain": [
       "[{'loss': 2292.378646421143, 'status': 'ok'},\n",
       " {'loss': 2198.834321849252, 'status': 'ok'},\n",
       " {'loss': 2242.738408325614, 'status': 'ok'},\n",
       " {'loss': 2275.565718223557, 'status': 'ok'},\n",
       " {'loss': 2252.732916351258, 'status': 'ok'},\n",
       " {'loss': 2236.0558931958353, 'status': 'ok'},\n",
       " {'loss': 2231.87954027227, 'status': 'ok'},\n",
       " {'loss': 2199.7675789650816, 'status': 'ok'},\n",
       " {'loss': 2233.991829246768, 'status': 'ok'},\n",
       " {'loss': 2205.794444615657, 'status': 'ok'},\n",
       " {'loss': 2279.70476067877, 'status': 'ok'},\n",
       " {'loss': 2280.5790462105774, 'status': 'ok'},\n",
       " {'loss': 2283.657725995358, 'status': 'ok'},\n",
       " {'loss': 2209.68445492868, 'status': 'ok'},\n",
       " {'loss': 2207.827156873448, 'status': 'ok'},\n",
       " {'loss': 2230.586059066283, 'status': 'ok'},\n",
       " {'loss': 2253.210825813657, 'status': 'ok'},\n",
       " {'loss': 2230.7581239732476, 'status': 'ok'},\n",
       " {'loss': 2208.32543186136, 'status': 'ok'},\n",
       " {'loss': 2212.7146360010274, 'status': 'ok'},\n",
       " {'loss': 2186.5575430849913, 'status': 'ok'},\n",
       " {'loss': 2235.064608052009, 'status': 'ok'},\n",
       " {'loss': 2194.0162256942117, 'status': 'ok'},\n",
       " {'loss': 2191.7411348116516, 'status': 'ok'},\n",
       " {'loss': 2215.256533600033, 'status': 'ok'},\n",
       " {'loss': 2189.6042195159193, 'status': 'ok'},\n",
       " {'loss': 2200.901493117573, 'status': 'ok'},\n",
       " {'loss': 2189.7823043426242, 'status': 'ok'},\n",
       " {'loss': 2203.0626456317577, 'status': 'ok'},\n",
       " {'loss': 2219.326892947905, 'status': 'ok'},\n",
       " {'loss': 2204.261616487041, 'status': 'ok'},\n",
       " {'loss': 2197.7436173922915, 'status': 'ok'},\n",
       " {'loss': 2223.71656640126, 'status': 'ok'},\n",
       " {'loss': 2185.8220906460815, 'status': 'ok'},\n",
       " {'loss': 3183.462459793369, 'status': 'ok'},\n",
       " {'loss': 2199.592408211598, 'status': 'ok'},\n",
       " {'loss': 2183.7762574597796, 'status': 'ok'},\n",
       " {'loss': 2194.3205001411598, 'status': 'ok'},\n",
       " {'loss': 2217.4461452024384, 'status': 'ok'},\n",
       " {'loss': 2193.9275181328567, 'status': 'ok'},\n",
       " {'loss': 2219.360198237265, 'status': 'ok'},\n",
       " {'loss': 2243.7393084628584, 'status': 'ok'},\n",
       " {'loss': 2212.663758280461, 'status': 'ok'},\n",
       " {'loss': 2201.792616640586, 'status': 'ok'},\n",
       " {'loss': 2197.5294827219795, 'status': 'ok'},\n",
       " {'loss': 2211.7716698715712, 'status': 'ok'},\n",
       " {'loss': 2230.5683264453123, 'status': 'ok'},\n",
       " {'loss': 2204.6255209250694, 'status': 'ok'},\n",
       " {'loss': 2270.209255598974, 'status': 'ok'},\n",
       " {'loss': 2183.069901822856, 'status': 'ok'}]"
      ]
     },
     "execution_count": 202,
     "metadata": {},
     "output_type": "execute_result"
    }
   ],
   "source": [
    "trials.results"
   ]
  },
  {
   "cell_type": "code",
   "execution_count": null,
   "metadata": {},
   "outputs": [],
   "source": []
  }
 ],
 "metadata": {
  "kernelspec": {
   "display_name": "Python 3",
   "language": "python",
   "name": "python3"
  },
  "language_info": {
   "codemirror_mode": {
    "name": "ipython",
    "version": 3
   },
   "file_extension": ".py",
   "mimetype": "text/x-python",
   "name": "python",
   "nbconvert_exporter": "python",
   "pygments_lexer": "ipython3",
   "version": "3.7.4"
  }
 },
 "nbformat": 4,
 "nbformat_minor": 4
}
